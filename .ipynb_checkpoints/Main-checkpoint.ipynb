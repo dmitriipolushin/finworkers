{
 "cells": [
  {
   "cell_type": "code",
   "execution_count": 7,
   "metadata": {},
   "outputs": [],
   "source": [
    "import random\n",
    "import math as m"
   ]
  },
  {
   "cell_type": "code",
   "execution_count": 8,
   "metadata": {},
   "outputs": [],
   "source": [
    "def LevelCount(Lvl):\n",
    "    print('Уровень=', Lvl)\n",
    "    Count=0\n",
    "    Count=random.randint(1,12)\n",
    "    if (2<=Lvl<=4):\n",
    "        if (Count in range(2,5,1)):\n",
    "            Lvl+=4\n",
    "        elif (5<=Count<=8):\n",
    "            Lvl+=5\n",
    "        elif (9<=Count<=11):\n",
    "            Lvl+=1\n",
    "        elif (Count==12):\n",
    "            Lvl+=2\n",
    "        else: Lvl+=3\n",
    "    if Lvl==1:\n",
    "        if (5<=Count<=8):\n",
    "            Lvl=2\n",
    "        elif (9<=Count<=10):\n",
    "            Lvl=3\n",
    "        elif (Count==12):\n",
    "            Lvl=5\n",
    "        elif (Count==11):\n",
    "            Lvl=4\n",
    "    if Lvl==5:\n",
    "        if (1<=Count<=4):\n",
    "            Lvl=4\n",
    "        elif (9<=Count<=10):\n",
    "            Lvl=3\n",
    "        elif (Count==12):\n",
    "            Lvl=2\n",
    "        elif (Count==11):\n",
    "            Lvl=1\n",
    "    if Lvl>5: Lvl-=5;\n",
    "    return Lvl"
   ]
  },
  {
   "cell_type": "code",
   "execution_count": 9,
   "metadata": {},
   "outputs": [],
   "source": [
    "a=[[CurNumOfGamers,800,3*CurNumOfGamers,6500],\n",
    "  [m.trunc(1.5*CurNumOfGamers),650,m.trunc(2.5*CurNumOfGamers),6000],\n",
    "  [2*CurNumOfGamers,500,2*CurNumOfGamers,5500],\n",
    "  [m.trunc(2.5*CurNumOfGamers),400,m.trunc(1.5*CurNumOfGamers),5000],\n",
    "  [3*CurNumOfGamers,300,CurNumOfGamers,4500]]"
   ]
  },
  {
   "cell_type": "code",
   "execution_count": 10,
   "metadata": {},
   "outputs": [
    {
     "name": "stdout",
     "output_type": "stream",
     "text": [
      "Сколько игроков? \n",
      "5\n",
      "Начало игры\n",
      "Текущий месяц =  1\n",
      "Уровень= 3\n",
      "Уровень= 2\n",
      "Уровень= 3\n",
      "Уровень= 1\n",
      "Уровень= 2\n",
      "Уровень= 1\n",
      "Уровень= 3\n",
      "Уровень= 4\n",
      "Уровень= 3\n",
      "Уровень= 2\n",
      "Уровень= 1\n",
      "Уровень= 3\n"
     ]
    }
   ],
   "source": [
    "mes=1\n",
    "Lvl=3\n",
    "print('Сколько игроков? ')\n",
    "CurNumOfGamers=int(input())\n",
    "print('Начало игры')\n",
    "print('Текущий месяц = ', mes)\n",
    "while mes<13:\n",
    "    starshiy=m.fmod(mes,CurNumOfGamers)\n",
    "    Lvl=LevelCount(Lvl)\n",
    "    mes+=1"
   ]
  },
  {
   "cell_type": "code",
   "execution_count": null,
   "metadata": {},
   "outputs": [],
   "source": []
  }
 ],
 "metadata": {
  "kernelspec": {
   "display_name": "Python 3",
   "language": "python",
   "name": "python3"
  },
  "language_info": {
   "codemirror_mode": {
    "name": "ipython",
    "version": 3
   },
   "file_extension": ".py",
   "mimetype": "text/x-python",
   "name": "python",
   "nbconvert_exporter": "python",
   "pygments_lexer": "ipython3",
   "version": "3.6.5"
  }
 },
 "nbformat": 4,
 "nbformat_minor": 2
}
